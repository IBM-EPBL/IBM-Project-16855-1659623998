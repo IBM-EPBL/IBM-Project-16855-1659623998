{
  "nbformat": 4,
  "nbformat_minor": 0,
  "metadata": {
    "colab": {
      "provenance": [],
      "collapsed_sections": []
    },
    "kernelspec": {
      "name": "python3",
      "display_name": "Python 3"
    },
    "language_info": {
      "name": "python"
    }
  },
  "cells": [
    {
      "cell_type": "code",
      "source": [
        "from sklearn.ensemble import RandomForestRegressor\n",
        "from sklearn.metrics import r2_score\n",
        "regressor = RandomForestRegressor(n_estimators=1000,max_depth=10,random_state =34)"
      ],
      "metadata": {
        "id": "VqDXbMSa2Oio"
      },
      "execution_count": null,
      "outputs": []
    },
    {
      "cell_type": "code",
      "source": [
        "regressor.fit(X_train, np.ravel(Y_train,order='C'))"
      ],
      "metadata": {
        "colab": {
          "base_uri": "https://localhost:8080/"
        },
        "id": "jN8XBH8X2OmO",
        "outputId": "0e93fb49-d764-4e5d-ae01-e1f6997e53f4"
      },
      "execution_count": null,
      "outputs": [
        {
          "output_type": "execute_result",
          "data": {
            "text/plain": [
              "RandomForestRegressor(max_depth=10, n_estimators=1000, random_state=34)"
            ]
          },
          "metadata": {},
          "execution_count": 49
        }
      ]
    }
  ]
}